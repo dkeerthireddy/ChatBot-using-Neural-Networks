{
 "cells": [
  {
   "cell_type": "markdown",
   "metadata": {
    "colab": {
     "base_uri": "https://localhost:8080/",
     "height": 355
    },
    "colab_type": "code",
    "id": "ALd0QEmzk6mr",
    "outputId": "e1680b07-7002-457d-d17c-da40a1a0fad6"
   },
   "source": [
    "# *CHATBOT- AI PROJECT*"
   ]
  },
  {
   "cell_type": "markdown",
   "metadata": {},
   "source": [
    "-**_by PAVITHRA GOVARDHANAN and KEERTHI DHARAM_**"
   ]
  },
  {
   "cell_type": "markdown",
   "metadata": {},
   "source": [
    "### Importing Packages "
   ]
  },
  {
   "cell_type": "code",
   "execution_count": 1,
   "metadata": {},
   "outputs": [],
   "source": [
    "#importing  packages\n",
    "import numpy\n",
    "import tensorflow\n",
    "import random\n",
    "import json\n",
    "import pickle\n",
    "import nltk\n",
    "import tensorflow as tf\n"
   ]
  },
  {
   "cell_type": "markdown",
   "metadata": {},
   "source": [
    "### Reading data from JSON File"
   ]
  },
  {
   "cell_type": "code",
   "execution_count": 2,
   "metadata": {
    "colab": {},
    "colab_type": "code",
    "id": "yOYmZ2qxk6mv"
   },
   "outputs": [],
   "source": [
    "from nltk.stem.lancaster import LancasterStemmer\n",
    "word_stemmer = LancasterStemmer()\n",
    "\n",
    "# Read training data from the json file\n",
    "with open(\"training.json\") as data:\n",
    "    contents = json.load(data)"
   ]
  },
  {
   "cell_type": "markdown",
   "metadata": {},
   "source": [
    "### Pre-Processing "
   ]
  },
  {
   "cell_type": "code",
   "execution_count": 3,
   "metadata": {
    "colab": {},
    "colab_type": "code",
    "id": "rifMludtk6mx"
   },
   "outputs": [],
   "source": [
    "try:\n",
    "    # load pre-processed data from the pickle file.\n",
    "    with open(\"cache.pickle\", \"rb\") as file:\n",
    "        vocab, label, train, test = pickle.load(file)\n",
    "\n",
    "except:\n",
    "\n",
    "    \n",
    "    vocab = []\n",
    "    label = []\n",
    "    x = []\n",
    "    y = []\n",
    "\n",
    "    # Extract words from the patterns, extract labels (tags)\n",
    "\n",
    "    for i in contents[\"intents\"]:\n",
    "        for j in i[\"patterns\"]:\n",
    "        #Tokenization\n",
    "            word_tokenized = nltk.word_tokenize(j) \n",
    "            vocab.extend(word_tokenized) \n",
    "            x.append(word_tokenized)\n",
    "            y.append(i[\"tag\"])\n",
    "\n",
    "        if i[\"tag\"] not in label:\n",
    "            label.append(i[\"tag\"])\n",
    "\n",
    "    #Stemming\n",
    "\n",
    "    vocab = [word_stemmer.stem(w.lower()) for w in vocab if w != \"?\"]\n",
    "    vocab = sorted(list(set(vocab)))\n",
    "\n",
    "    label = sorted(label)\n",
    "\n",
    "    #BAG OF WORDS- One hot encoding\n",
    "    train = []\n",
    "    test = []\n",
    "\n",
    "    output = [0 for _ in range(len(label))]\n",
    "\n",
    "    for k, doc in enumerate(x):\n",
    "        bag_words = []\n",
    "\n",
    "        wrds = [word_stemmer.stem(w) for w in doc]\n",
    "\n",
    "        for w in vocab:\n",
    "            if w in wrds:\n",
    "                bag_words.append(1)\n",
    "            else:\n",
    "                bag_words.append(0)\n",
    "\n",
    "        line = output[:]\n",
    "        line[label.index(y[k])] = 1\n",
    "\n",
    "        train.append(bag_words)\n",
    "        test.append(line)\n",
    "\n",
    "\n",
    "    train= numpy.array(train)\n",
    "    test = numpy.array(test)\n",
    "\n",
    "    # Write the pre-processed data into the pickle file.\n",
    "    with open(\"cache.pickle\", \"wb\") as m:\n",
    "        pickle.dump((vocab, label, train, test), m)\n",
    "\n"
   ]
  },
  {
   "cell_type": "code",
   "execution_count": 4,
   "metadata": {
    "colab": {
     "base_uri": "https://localhost:8080/",
     "height": 34
    },
    "colab_type": "code",
    "id": "NyAFGqrZk6mz",
    "outputId": "d3ecb156-df48-4740-9025-af28c507dc8d",
    "scrolled": false
   },
   "outputs": [
    {
     "data": {
      "text/plain": [
       "507"
      ]
     },
     "execution_count": 4,
     "metadata": {},
     "output_type": "execute_result"
    }
   ],
   "source": [
    "\n",
    "len(vocab)"
   ]
  },
  {
   "cell_type": "markdown",
   "metadata": {},
   "source": [
    "### Bag of Words "
   ]
  },
  {
   "cell_type": "code",
   "execution_count": 5,
   "metadata": {
    "colab": {},
    "colab_type": "code",
    "id": "3arFmttQ-c_s"
   },
   "outputs": [],
   "source": [
    "def bag_of_words(question, vocab):\n",
    "    bagofwords = [0 for _ in range(len(vocab))]\n",
    "\n",
    "    word = nltk.word_tokenize(question)\n",
    "    word = [word_stemmer.stem(j.lower()) for j in word]\n",
    "\n",
    "    for v in word:\n",
    "        for i, w in enumerate(vocab):\n",
    "            if v == w:\n",
    "                bagofwords[i] = 1\n",
    "\n",
    "    return numpy.array(bagofwords)\n"
   ]
  },
  {
   "cell_type": "markdown",
   "metadata": {},
   "source": [
    "### Convolutional Neural Network (CNN) "
   ]
  },
  {
   "cell_type": "code",
   "execution_count": 6,
   "metadata": {
    "colab": {
     "base_uri": "https://localhost:8080/",
     "height": 309
    },
    "colab_type": "code",
    "id": "v7i98tuPk6m3",
    "outputId": "14cd3b07-d656-4598-f2ce-7c7d304c850e",
    "scrolled": true
   },
   "outputs": [
    {
     "name": "stdout",
     "output_type": "stream",
     "text": [
      "WARNING:tensorflow:From C:\\Users\\pavig\\Anaconda3\\lib\\site-packages\\tensorflow_core\\python\\keras\\initializers.py:119: calling RandomUniform.__init__ (from tensorflow.python.ops.init_ops) with dtype is deprecated and will be removed in a future version.\n",
      "Instructions for updating:\n",
      "Call initializer instance with the dtype argument instead of passing it to the constructor\n",
      "WARNING:tensorflow:From C:\\Users\\pavig\\Anaconda3\\lib\\site-packages\\tensorflow_core\\python\\ops\\resource_variable_ops.py:1630: calling BaseResourceVariable.__init__ (from tensorflow.python.ops.resource_variable_ops) with constraint is deprecated and will be removed in a future version.\n",
      "Instructions for updating:\n",
      "If using Keras pass *_constraint arguments to layers.\n"
     ]
    }
   ],
   "source": [
    "from tensorflow.keras.models import Sequential\n",
    "from tensorflow.keras.layers import Dense, Dropout, Flatten\n",
    "from tensorflow.keras.layers import Conv1D, MaxPooling1D, Embedding, LSTM\n",
    "cnn_model = Sequential()\n",
    "cnn_model.add(Embedding(507, 32, input_length=507))\n",
    "cnn_model.add(Conv1D(128, 5, activation='relu'))\n",
    "cnn_model.add(MaxPooling1D(pool_size = 3))\n",
    "cnn_model.add(Flatten())\n",
    "cnn_model.add(Dense(50, activation='relu'))\n",
    "cnn_model.add(Dense(220,activation='softmax'))\n",
    "cnn_model.compile(optimizer='adam',loss='binary_crossentropy',metrics=['accuracy'])"
   ]
  },
  {
   "cell_type": "code",
   "execution_count": 7,
   "metadata": {
    "colab": {
     "base_uri": "https://localhost:8080/",
     "height": 357
    },
    "colab_type": "code",
    "id": "Zz4264rI-oqf",
    "outputId": "e17b3479-639e-4a12-d14c-bc7b7ebca658"
   },
   "outputs": [
    {
     "name": "stdout",
     "output_type": "stream",
     "text": [
      "Model: \"sequential\"\n",
      "_________________________________________________________________\n",
      "Layer (type)                 Output Shape              Param #   \n",
      "=================================================================\n",
      "embedding (Embedding)        (None, 507, 32)           16224     \n",
      "_________________________________________________________________\n",
      "conv1d (Conv1D)              (None, 503, 128)          20608     \n",
      "_________________________________________________________________\n",
      "max_pooling1d (MaxPooling1D) (None, 167, 128)          0         \n",
      "_________________________________________________________________\n",
      "flatten (Flatten)            (None, 21376)             0         \n",
      "_________________________________________________________________\n",
      "dense (Dense)                (None, 50)                1068850   \n",
      "_________________________________________________________________\n",
      "dense_1 (Dense)              (None, 220)               11220     \n",
      "=================================================================\n",
      "Total params: 1,116,902\n",
      "Trainable params: 1,116,902\n",
      "Non-trainable params: 0\n",
      "_________________________________________________________________\n"
     ]
    }
   ],
   "source": [
    "cnn_model.summary()"
   ]
  },
  {
   "cell_type": "code",
   "execution_count": 8,
   "metadata": {
    "scrolled": false
   },
   "outputs": [
    {
     "name": "stdout",
     "output_type": "stream",
     "text": [
      "WARNING:tensorflow:From C:\\Users\\pavig\\Anaconda3\\lib\\site-packages\\tensorflow_core\\python\\ops\\math_grad.py:1424: where (from tensorflow.python.ops.array_ops) is deprecated and will be removed in a future version.\n",
      "Instructions for updating:\n",
      "Use tf.where in 2.0, which has the same broadcast rule as np.where\n",
      "Train on 418 samples, validate on 47 samples\n",
      "Epoch 1/150\n",
      "418/418 - 1s - loss: 0.0291 - acc: 0.9955 - val_loss: 0.0291 - val_acc: 0.9955\n",
      "Epoch 2/150\n",
      "418/418 - 1s - loss: 0.0290 - acc: 0.9955 - val_loss: 0.0291 - val_acc: 0.9955\n",
      "Epoch 3/150\n",
      "418/418 - 1s - loss: 0.0290 - acc: 0.9955 - val_loss: 0.0293 - val_acc: 0.9955\n",
      "Epoch 4/150\n",
      "418/418 - 1s - loss: 0.0290 - acc: 0.9955 - val_loss: 0.0296 - val_acc: 0.9955\n",
      "Epoch 5/150\n",
      "418/418 - 1s - loss: 0.0289 - acc: 0.9955 - val_loss: 0.0302 - val_acc: 0.9955\n",
      "Epoch 6/150\n",
      "418/418 - 1s - loss: 0.0288 - acc: 0.9955 - val_loss: 0.0303 - val_acc: 0.9955\n",
      "Epoch 7/150\n",
      "418/418 - 1s - loss: 0.0287 - acc: 0.9955 - val_loss: 0.0311 - val_acc: 0.9955\n",
      "Epoch 8/150\n",
      "418/418 - 1s - loss: 0.0287 - acc: 0.9955 - val_loss: 0.0321 - val_acc: 0.9955\n",
      "Epoch 9/150\n",
      "418/418 - 1s - loss: 0.0285 - acc: 0.9955 - val_loss: 0.0325 - val_acc: 0.9955\n",
      "Epoch 10/150\n",
      "418/418 - 1s - loss: 0.0284 - acc: 0.9955 - val_loss: 0.0331 - val_acc: 0.9955\n",
      "Epoch 11/150\n",
      "418/418 - 1s - loss: 0.0282 - acc: 0.9955 - val_loss: 0.0337 - val_acc: 0.9955\n",
      "Epoch 12/150\n",
      "418/418 - 1s - loss: 0.0280 - acc: 0.9955 - val_loss: 0.0358 - val_acc: 0.9955\n",
      "Epoch 13/150\n",
      "418/418 - 1s - loss: 0.0276 - acc: 0.9955 - val_loss: 0.0351 - val_acc: 0.9955\n",
      "Epoch 14/150\n",
      "418/418 - 1s - loss: 0.0271 - acc: 0.9955 - val_loss: 0.0376 - val_acc: 0.9955\n",
      "Epoch 15/150\n",
      "418/418 - 1s - loss: 0.0264 - acc: 0.9955 - val_loss: 0.0402 - val_acc: 0.9955\n",
      "Epoch 16/150\n",
      "418/418 - 1s - loss: 0.0253 - acc: 0.9955 - val_loss: 0.0440 - val_acc: 0.9955\n",
      "Epoch 17/150\n",
      "418/418 - 1s - loss: 0.0239 - acc: 0.9955 - val_loss: 0.0476 - val_acc: 0.9955\n",
      "Epoch 18/150\n",
      "418/418 - 1s - loss: 0.0220 - acc: 0.9955 - val_loss: 0.0540 - val_acc: 0.9955\n",
      "Epoch 19/150\n",
      "418/418 - 1s - loss: 0.0196 - acc: 0.9957 - val_loss: 0.0580 - val_acc: 0.9955\n",
      "Epoch 20/150\n",
      "418/418 - 1s - loss: 0.0169 - acc: 0.9961 - val_loss: 0.0661 - val_acc: 0.9955\n",
      "Epoch 21/150\n",
      "418/418 - 1s - loss: 0.0137 - acc: 0.9969 - val_loss: 0.0698 - val_acc: 0.9955\n",
      "Epoch 22/150\n",
      "418/418 - 1s - loss: 0.0110 - acc: 0.9975 - val_loss: 0.0720 - val_acc: 0.9955\n",
      "Epoch 23/150\n",
      "418/418 - 1s - loss: 0.0086 - acc: 0.9980 - val_loss: 0.0746 - val_acc: 0.9952\n",
      "Epoch 24/150\n",
      "418/418 - 1s - loss: 0.0069 - acc: 0.9984 - val_loss: 0.0752 - val_acc: 0.9943\n",
      "Epoch 25/150\n",
      "418/418 - 1s - loss: 0.0056 - acc: 0.9987 - val_loss: 0.0760 - val_acc: 0.9936\n",
      "Epoch 26/150\n",
      "418/418 - 1s - loss: 0.0043 - acc: 0.9989 - val_loss: 0.0766 - val_acc: 0.9930\n",
      "Epoch 27/150\n",
      "418/418 - 1s - loss: 0.0033 - acc: 0.9991 - val_loss: 0.0770 - val_acc: 0.9929\n",
      "Epoch 28/150\n",
      "418/418 - 1s - loss: 0.0026 - acc: 0.9993 - val_loss: 0.0776 - val_acc: 0.9931\n",
      "Epoch 29/150\n",
      "418/418 - 1s - loss: 0.0020 - acc: 0.9994 - val_loss: 0.0777 - val_acc: 0.9927\n",
      "Epoch 30/150\n",
      "418/418 - 1s - loss: 0.0014 - acc: 0.9996 - val_loss: 0.0778 - val_acc: 0.9929\n",
      "Epoch 31/150\n",
      "418/418 - 1s - loss: 0.0012 - acc: 0.9997 - val_loss: 0.0783 - val_acc: 0.9926\n",
      "Epoch 32/150\n",
      "418/418 - 1s - loss: 9.0093e-04 - acc: 0.9997 - val_loss: 0.0788 - val_acc: 0.9926\n",
      "Epoch 33/150\n",
      "418/418 - 1s - loss: 6.4595e-04 - acc: 0.9998 - val_loss: 0.0789 - val_acc: 0.9926\n",
      "Epoch 34/150\n",
      "418/418 - 1s - loss: 4.9181e-04 - acc: 0.9998 - val_loss: 0.0795 - val_acc: 0.9923\n",
      "Epoch 35/150\n",
      "418/418 - 1s - loss: 3.9590e-04 - acc: 0.9999 - val_loss: 0.0795 - val_acc: 0.9922\n",
      "Epoch 36/150\n",
      "418/418 - 1s - loss: 4.2876e-04 - acc: 0.9998 - val_loss: 0.0797 - val_acc: 0.9919\n",
      "Epoch 37/150\n",
      "418/418 - 1s - loss: 4.1144e-04 - acc: 0.9999 - val_loss: 0.0799 - val_acc: 0.9918\n",
      "Epoch 38/150\n",
      "418/418 - 1s - loss: 3.0345e-04 - acc: 0.9999 - val_loss: 0.0797 - val_acc: 0.9919\n",
      "Epoch 39/150\n",
      "418/418 - 1s - loss: 4.0929e-04 - acc: 0.9999 - val_loss: 0.0799 - val_acc: 0.9920\n",
      "Epoch 40/150\n",
      "418/418 - 1s - loss: 3.0239e-04 - acc: 0.9999 - val_loss: 0.0798 - val_acc: 0.9920\n",
      "Epoch 41/150\n",
      "418/418 - 1s - loss: 2.5442e-04 - acc: 0.9999 - val_loss: 0.0798 - val_acc: 0.9918\n",
      "Epoch 42/150\n",
      "418/418 - 1s - loss: 2.4692e-04 - acc: 0.9999 - val_loss: 0.0803 - val_acc: 0.9921\n",
      "Epoch 43/150\n",
      "418/418 - 1s - loss: 3.1300e-04 - acc: 0.9999 - val_loss: 0.0804 - val_acc: 0.9918\n",
      "Epoch 44/150\n",
      "418/418 - 1s - loss: 1.9226e-04 - acc: 0.9999 - val_loss: 0.0799 - val_acc: 0.9919\n",
      "Epoch 45/150\n",
      "418/418 - 1s - loss: 2.7666e-04 - acc: 0.9999 - val_loss: 0.0797 - val_acc: 0.9917\n",
      "Epoch 46/150\n",
      "418/418 - 1s - loss: 2.7052e-04 - acc: 0.9999 - val_loss: 0.0802 - val_acc: 0.9918\n",
      "Epoch 47/150\n",
      "418/418 - 1s - loss: 2.6999e-04 - acc: 0.9999 - val_loss: 0.0804 - val_acc: 0.9918\n",
      "Epoch 48/150\n",
      "418/418 - 1s - loss: 2.9885e-04 - acc: 0.9999 - val_loss: 0.0799 - val_acc: 0.9922\n",
      "Epoch 49/150\n",
      "418/418 - 1s - loss: 2.4436e-04 - acc: 0.9999 - val_loss: 0.0803 - val_acc: 0.9917\n",
      "Epoch 50/150\n",
      "418/418 - 1s - loss: 2.8005e-04 - acc: 0.9999 - val_loss: 0.0799 - val_acc: 0.9919\n",
      "Epoch 51/150\n",
      "418/418 - 1s - loss: 2.5183e-04 - acc: 0.9999 - val_loss: 0.0795 - val_acc: 0.9923\n",
      "Epoch 52/150\n",
      "418/418 - 1s - loss: 2.6417e-04 - acc: 0.9999 - val_loss: 0.0799 - val_acc: 0.9922\n",
      "Epoch 53/150\n",
      "418/418 - 1s - loss: 1.8558e-04 - acc: 0.9999 - val_loss: 0.0804 - val_acc: 0.9919\n",
      "Epoch 54/150\n",
      "418/418 - 1s - loss: 2.2161e-04 - acc: 0.9999 - val_loss: 0.0806 - val_acc: 0.9920\n",
      "Epoch 55/150\n",
      "418/418 - 1s - loss: 2.1586e-04 - acc: 0.9999 - val_loss: 0.0804 - val_acc: 0.9918\n",
      "Epoch 56/150\n",
      "418/418 - 1s - loss: 1.7914e-04 - acc: 0.9999 - val_loss: 0.0802 - val_acc: 0.9916\n",
      "Epoch 57/150\n",
      "418/418 - 1s - loss: 1.9035e-04 - acc: 0.9999 - val_loss: 0.0805 - val_acc: 0.9916\n",
      "Epoch 58/150\n",
      "418/418 - 1s - loss: 1.9151e-04 - acc: 0.9999 - val_loss: 0.0806 - val_acc: 0.9918\n",
      "Epoch 59/150\n",
      "418/418 - 1s - loss: 1.7581e-04 - acc: 0.9999 - val_loss: 0.0806 - val_acc: 0.9917\n",
      "Epoch 60/150\n",
      "418/418 - 1s - loss: 2.1371e-04 - acc: 0.9998 - val_loss: 0.0806 - val_acc: 0.9915\n",
      "Epoch 61/150\n",
      "418/418 - 1s - loss: 2.1095e-04 - acc: 0.9999 - val_loss: 0.0811 - val_acc: 0.9917\n",
      "Epoch 62/150\n",
      "418/418 - 1s - loss: 1.7167e-04 - acc: 0.9999 - val_loss: 0.0809 - val_acc: 0.9916\n",
      "Epoch 63/150\n",
      "418/418 - 1s - loss: 2.2558e-04 - acc: 0.9999 - val_loss: 0.0806 - val_acc: 0.9916\n",
      "Epoch 64/150\n",
      "418/418 - 1s - loss: 1.6963e-04 - acc: 0.9999 - val_loss: 0.0811 - val_acc: 0.9920\n",
      "Epoch 65/150\n",
      "418/418 - 1s - loss: 2.1460e-04 - acc: 0.9999 - val_loss: 0.0811 - val_acc: 0.9919\n",
      "Epoch 66/150\n",
      "418/418 - 1s - loss: 2.1243e-04 - acc: 0.9999 - val_loss: 0.0801 - val_acc: 0.9918\n",
      "Epoch 67/150\n",
      "418/418 - 1s - loss: 1.8865e-04 - acc: 0.9999 - val_loss: 0.0800 - val_acc: 0.9920\n",
      "Epoch 68/150\n",
      "418/418 - 1s - loss: 1.9423e-04 - acc: 0.9998 - val_loss: 0.0804 - val_acc: 0.9915\n",
      "Epoch 69/150\n",
      "418/418 - 1s - loss: 1.9217e-04 - acc: 0.9999 - val_loss: 0.0803 - val_acc: 0.9917\n",
      "Epoch 70/150\n",
      "418/418 - 1s - loss: 1.7804e-04 - acc: 0.9999 - val_loss: 0.0800 - val_acc: 0.9916\n",
      "Epoch 71/150\n",
      "418/418 - 1s - loss: 2.0913e-04 - acc: 0.9999 - val_loss: 0.0804 - val_acc: 0.9917\n",
      "Epoch 72/150\n",
      "418/418 - 1s - loss: 1.7976e-04 - acc: 0.9999 - val_loss: 0.0807 - val_acc: 0.9917\n",
      "Epoch 73/150\n",
      "418/418 - 1s - loss: 1.5790e-04 - acc: 0.9999 - val_loss: 0.0809 - val_acc: 0.9919\n",
      "Epoch 74/150\n",
      "418/418 - 1s - loss: 1.7742e-04 - acc: 0.9999 - val_loss: 0.0810 - val_acc: 0.9914\n",
      "Epoch 75/150\n",
      "418/418 - 1s - loss: 2.2264e-04 - acc: 0.9999 - val_loss: 0.0805 - val_acc: 0.9917\n",
      "Epoch 76/150\n",
      "418/418 - 1s - loss: 1.7621e-04 - acc: 0.9999 - val_loss: 0.0810 - val_acc: 0.9916\n",
      "Epoch 77/150\n",
      "418/418 - 1s - loss: 2.5710e-04 - acc: 0.9999 - val_loss: 0.0812 - val_acc: 0.9919\n",
      "Epoch 78/150\n",
      "418/418 - 1s - loss: 2.6770e-04 - acc: 0.9999 - val_loss: 0.0799 - val_acc: 0.9918\n",
      "Epoch 79/150\n",
      "418/418 - 1s - loss: 2.6137e-04 - acc: 0.9999 - val_loss: 0.0798 - val_acc: 0.9917\n",
      "Epoch 80/150\n",
      "418/418 - 1s - loss: 1.8860e-04 - acc: 0.9999 - val_loss: 0.0804 - val_acc: 0.9918\n",
      "Epoch 81/150\n",
      "418/418 - 1s - loss: 2.2102e-04 - acc: 0.9999 - val_loss: 0.0807 - val_acc: 0.9918\n",
      "Epoch 82/150\n",
      "418/418 - 1s - loss: 1.8134e-04 - acc: 0.9999 - val_loss: 0.0803 - val_acc: 0.9917\n",
      "Epoch 83/150\n",
      "418/418 - 1s - loss: 1.8129e-04 - acc: 0.9999 - val_loss: 0.0802 - val_acc: 0.9919\n",
      "Epoch 84/150\n"
     ]
    },
    {
     "name": "stdout",
     "output_type": "stream",
     "text": [
      "418/418 - 1s - loss: 1.7669e-04 - acc: 0.9999 - val_loss: 0.0804 - val_acc: 0.9917\n",
      "Epoch 85/150\n",
      "418/418 - 1s - loss: 2.1712e-04 - acc: 0.9999 - val_loss: 0.0807 - val_acc: 0.9918\n",
      "Epoch 86/150\n",
      "418/418 - 1s - loss: 1.7014e-04 - acc: 0.9999 - val_loss: 0.0805 - val_acc: 0.9920\n",
      "Epoch 87/150\n",
      "418/418 - 1s - loss: 1.7270e-04 - acc: 0.9999 - val_loss: 0.0806 - val_acc: 0.9919\n",
      "Epoch 88/150\n",
      "418/418 - 1s - loss: 1.6672e-04 - acc: 0.9999 - val_loss: 0.0805 - val_acc: 0.9917\n",
      "Epoch 89/150\n",
      "418/418 - 1s - loss: 1.8425e-04 - acc: 0.9999 - val_loss: 0.0808 - val_acc: 0.9919\n",
      "Epoch 90/150\n",
      "418/418 - 1s - loss: 1.6038e-04 - acc: 0.9999 - val_loss: 0.0812 - val_acc: 0.9917\n",
      "Epoch 91/150\n",
      "418/418 - 1s - loss: 1.7407e-04 - acc: 0.9999 - val_loss: 0.0811 - val_acc: 0.9919\n",
      "Epoch 92/150\n",
      "418/418 - 1s - loss: 1.7848e-04 - acc: 0.9999 - val_loss: 0.0803 - val_acc: 0.9922\n",
      "Epoch 93/150\n",
      "418/418 - 1s - loss: 2.2054e-04 - acc: 0.9999 - val_loss: 0.0804 - val_acc: 0.9919\n",
      "Epoch 94/150\n",
      "418/418 - 1s - loss: 1.9827e-04 - acc: 0.9999 - val_loss: 0.0806 - val_acc: 0.9917\n",
      "Epoch 95/150\n",
      "418/418 - 1s - loss: 1.8416e-04 - acc: 0.9999 - val_loss: 0.0807 - val_acc: 0.9918\n",
      "Epoch 96/150\n",
      "418/418 - 1s - loss: 1.6779e-04 - acc: 0.9999 - val_loss: 0.0809 - val_acc: 0.9917\n",
      "Epoch 97/150\n",
      "418/418 - 1s - loss: 1.4264e-04 - acc: 0.9999 - val_loss: 0.0810 - val_acc: 0.9917\n",
      "Epoch 98/150\n",
      "418/418 - 1s - loss: 1.7106e-04 - acc: 0.9999 - val_loss: 0.0809 - val_acc: 0.9918\n",
      "Epoch 99/150\n",
      "418/418 - 1s - loss: 1.5662e-04 - acc: 0.9999 - val_loss: 0.0811 - val_acc: 0.9915\n",
      "Epoch 100/150\n",
      "418/418 - 1s - loss: 1.7128e-04 - acc: 0.9999 - val_loss: 0.0812 - val_acc: 0.9917\n",
      "Epoch 101/150\n",
      "418/418 - 1s - loss: 1.8142e-04 - acc: 0.9999 - val_loss: 0.0809 - val_acc: 0.9919\n",
      "Epoch 102/150\n",
      "418/418 - 1s - loss: 1.6680e-04 - acc: 0.9999 - val_loss: 0.0811 - val_acc: 0.9916\n",
      "Epoch 103/150\n",
      "418/418 - 1s - loss: 1.4271e-04 - acc: 0.9999 - val_loss: 0.0811 - val_acc: 0.9917\n",
      "Epoch 104/150\n",
      "418/418 - 1s - loss: 1.6015e-04 - acc: 0.9999 - val_loss: 0.0812 - val_acc: 0.9915\n",
      "Epoch 105/150\n",
      "418/418 - 1s - loss: 1.7076e-04 - acc: 0.9999 - val_loss: 0.0813 - val_acc: 0.9917\n",
      "Epoch 106/150\n",
      "418/418 - 1s - loss: 1.5623e-04 - acc: 0.9999 - val_loss: 0.0812 - val_acc: 0.9914\n",
      "Epoch 107/150\n",
      "418/418 - 1s - loss: 1.5479e-04 - acc: 0.9999 - val_loss: 0.0812 - val_acc: 0.9916\n",
      "Epoch 108/150\n",
      "418/418 - 1s - loss: 1.4279e-04 - acc: 0.9999 - val_loss: 0.0813 - val_acc: 0.9915\n",
      "Epoch 109/150\n",
      "418/418 - 1s - loss: 1.5898e-04 - acc: 0.9999 - val_loss: 0.0814 - val_acc: 0.9914\n",
      "Epoch 110/150\n",
      "418/418 - 1s - loss: 1.6578e-04 - acc: 0.9999 - val_loss: 0.0814 - val_acc: 0.9916\n",
      "Epoch 111/150\n",
      "418/418 - 1s - loss: 1.6761e-04 - acc: 0.9998 - val_loss: 0.0812 - val_acc: 0.9914\n",
      "Epoch 112/150\n",
      "418/418 - 1s - loss: 1.5569e-04 - acc: 0.9999 - val_loss: 0.0814 - val_acc: 0.9915\n",
      "Epoch 113/150\n",
      "418/418 - 1s - loss: 1.4681e-04 - acc: 0.9999 - val_loss: 0.0815 - val_acc: 0.9913\n",
      "Epoch 114/150\n",
      "418/418 - 1s - loss: 1.6019e-04 - acc: 0.9998 - val_loss: 0.0813 - val_acc: 0.9914\n",
      "Epoch 115/150\n",
      "418/418 - 1s - loss: 1.4542e-04 - acc: 0.9999 - val_loss: 0.0816 - val_acc: 0.9914\n",
      "Epoch 116/150\n",
      "418/418 - 1s - loss: 1.5891e-04 - acc: 0.9999 - val_loss: 0.0814 - val_acc: 0.9916\n",
      "Epoch 117/150\n",
      "418/418 - 0s - loss: 1.5442e-04 - acc: 0.9999 - val_loss: 0.0813 - val_acc: 0.9913\n",
      "Epoch 118/150\n",
      "418/418 - 1s - loss: 1.4764e-04 - acc: 0.9999 - val_loss: 0.0813 - val_acc: 0.9915\n",
      "Epoch 119/150\n",
      "418/418 - 1s - loss: 1.7014e-04 - acc: 0.9999 - val_loss: 0.0815 - val_acc: 0.9914\n",
      "Epoch 120/150\n",
      "418/418 - 1s - loss: 1.5626e-04 - acc: 0.9999 - val_loss: 0.0814 - val_acc: 0.9914\n",
      "Epoch 121/150\n",
      "418/418 - 1s - loss: 1.4304e-04 - acc: 0.9999 - val_loss: 0.0811 - val_acc: 0.9920\n",
      "Epoch 122/150\n",
      "418/418 - 1s - loss: 1.6550e-04 - acc: 0.9999 - val_loss: 0.0813 - val_acc: 0.9915\n",
      "Epoch 123/150\n",
      "418/418 - 1s - loss: 1.6522e-04 - acc: 0.9999 - val_loss: 0.0814 - val_acc: 0.9915\n",
      "Epoch 124/150\n",
      "418/418 - 1s - loss: 1.4491e-04 - acc: 0.9999 - val_loss: 0.0815 - val_acc: 0.9918\n",
      "Epoch 125/150\n",
      "418/418 - 1s - loss: 1.6503e-04 - acc: 0.9999 - val_loss: 0.0815 - val_acc: 0.9915\n",
      "Epoch 126/150\n",
      "418/418 - 1s - loss: 1.7456e-04 - acc: 0.9999 - val_loss: 0.0809 - val_acc: 0.9917\n",
      "Epoch 127/150\n",
      "418/418 - 1s - loss: 1.8889e-04 - acc: 0.9999 - val_loss: 0.0810 - val_acc: 0.9916\n",
      "Epoch 128/150\n",
      "418/418 - 1s - loss: 1.3981e-04 - acc: 0.9999 - val_loss: 0.0814 - val_acc: 0.9914\n",
      "Epoch 129/150\n",
      "418/418 - 1s - loss: 1.7350e-04 - acc: 0.9999 - val_loss: 0.0820 - val_acc: 0.9918\n",
      "Epoch 130/150\n",
      "418/418 - 1s - loss: 1.8885e-04 - acc: 0.9999 - val_loss: 0.0816 - val_acc: 0.9915\n",
      "Epoch 131/150\n",
      "418/418 - 1s - loss: 1.6067e-04 - acc: 0.9999 - val_loss: 0.0812 - val_acc: 0.9918\n",
      "Epoch 132/150\n",
      "418/418 - 1s - loss: 1.5488e-04 - acc: 0.9999 - val_loss: 0.0813 - val_acc: 0.9915\n",
      "Epoch 133/150\n",
      "418/418 - 1s - loss: 1.8311e-04 - acc: 0.9999 - val_loss: 0.0813 - val_acc: 0.9917\n",
      "Epoch 134/150\n",
      "418/418 - 1s - loss: 1.5711e-04 - acc: 0.9999 - val_loss: 0.0813 - val_acc: 0.9915\n",
      "Epoch 135/150\n",
      "418/418 - 1s - loss: 1.4474e-04 - acc: 0.9999 - val_loss: 0.0816 - val_acc: 0.9915\n",
      "Epoch 136/150\n",
      "418/418 - 1s - loss: 1.4900e-04 - acc: 0.9999 - val_loss: 0.0816 - val_acc: 0.9914\n",
      "Epoch 137/150\n",
      "418/418 - 1s - loss: 1.4396e-04 - acc: 0.9999 - val_loss: 0.0816 - val_acc: 0.9914\n",
      "Epoch 138/150\n",
      "418/418 - 1s - loss: 1.5284e-04 - acc: 0.9999 - val_loss: 0.0815 - val_acc: 0.9915\n",
      "Epoch 139/150\n",
      "418/418 - 1s - loss: 1.4643e-04 - acc: 0.9999 - val_loss: 0.0815 - val_acc: 0.9915\n",
      "Epoch 140/150\n",
      "418/418 - 1s - loss: 1.6335e-04 - acc: 0.9999 - val_loss: 0.0814 - val_acc: 0.9915\n",
      "Epoch 141/150\n",
      "418/418 - 1s - loss: 1.2796e-04 - acc: 0.9999 - val_loss: 0.0814 - val_acc: 0.9917\n",
      "Epoch 142/150\n",
      "418/418 - 1s - loss: 1.7781e-04 - acc: 0.9999 - val_loss: 0.0815 - val_acc: 0.9916\n",
      "Epoch 143/150\n",
      "418/418 - 1s - loss: 1.5232e-04 - acc: 0.9999 - val_loss: 0.0813 - val_acc: 0.9917\n",
      "Epoch 144/150\n",
      "418/418 - 1s - loss: 1.5486e-04 - acc: 0.9999 - val_loss: 0.0814 - val_acc: 0.9918\n",
      "Epoch 145/150\n",
      "418/418 - 1s - loss: 1.7690e-04 - acc: 0.9999 - val_loss: 0.0817 - val_acc: 0.9917\n",
      "Epoch 146/150\n",
      "418/418 - 1s - loss: 1.4067e-04 - acc: 0.9999 - val_loss: 0.0817 - val_acc: 0.9915\n",
      "Epoch 147/150\n",
      "418/418 - 1s - loss: 1.4088e-04 - acc: 0.9999 - val_loss: 0.0816 - val_acc: 0.9915\n",
      "Epoch 148/150\n",
      "418/418 - 1s - loss: 1.5378e-04 - acc: 0.9999 - val_loss: 0.0815 - val_acc: 0.9917\n",
      "Epoch 149/150\n",
      "418/418 - 1s - loss: 1.3825e-04 - acc: 0.9999 - val_loss: 0.0816 - val_acc: 0.9916\n",
      "Epoch 150/150\n",
      "418/418 - 1s - loss: 1.6287e-04 - acc: 0.9999 - val_loss: 0.0818 - val_acc: 0.9915\n"
     ]
    }
   ],
   "source": [
    "cnn=cnn_model.fit(train, test, epochs=150,verbose = 2, batch_size=64,validation_split=0.1,shuffle=True)"
   ]
  },
  {
   "cell_type": "markdown",
   "metadata": {},
   "source": [
    "### Accuracy (CNN) "
   ]
  },
  {
   "cell_type": "code",
   "execution_count": 9,
   "metadata": {
    "colab": {
     "base_uri": "https://localhost:8080/",
     "height": 68
    },
    "colab_type": "code",
    "id": "y9w26iHY59AU",
    "outputId": "1bb4ea33-0dc1-4e2c-90d5-2a4ae44d1494",
    "scrolled": true
   },
   "outputs": [
    {
     "name": "stdout",
     "output_type": "stream",
     "text": [
      "Model saved successfully...\n",
      "465/465 [==============================] - 0s 545us/sample - loss: 0.0084 - acc: 0.9991\n",
      "Accuracy: 0.9990616\n"
     ]
    }
   ],
   "source": [
    "print(\"Model saved successfully...\")\n",
    "\n",
    "scores = cnn_model.evaluate(train, test, verbose=1)\n",
    "print(\"Accuracy:\", scores[1])"
   ]
  },
  {
   "cell_type": "markdown",
   "metadata": {},
   "source": [
    "### Graph results of CNN "
   ]
  },
  {
   "cell_type": "code",
   "execution_count": 10,
   "metadata": {},
   "outputs": [
    {
     "data": {
      "image/png": "[encoded data removed]",
      "text/plain": [
       "<Figure size 432x288 with 1 Axes>"
      ]
     },
     "metadata": {
      "needs_background": "light"
     },
     "output_type": "display_data"
    }
   ],
   "source": [
    "%matplotlib inline\n",
    "import matplotlib.pyplot as plt\n",
    "\n",
    "plt.plot(cnn.history['acc'])\n",
    "plt.title('model accuracy')\n",
    "plt.ylim(0.996,1.0025)\n",
    "plt.xlim(10,140)\n",
    "plt.ylabel('accuracy')\n",
    "plt.xlabel('epoch')\n",
    "plt.legend(['accuracy'], loc='upper left')\n",
    "plt.show()"
   ]
  },
  {
   "cell_type": "code",
   "execution_count": 11,
   "metadata": {
    "scrolled": true
   },
   "outputs": [
    {
     "data": {
      "image/png": "[encoded data removed]",
      "text/plain": [
       "<Figure size 432x288 with 1 Axes>"
      ]
     },
     "metadata": {
      "needs_background": "light"
     },
     "output_type": "display_data"
    }
   ],
   "source": [
    "%matplotlib inline\n",
    "import matplotlib.pyplot as plt\n",
    "\n",
    "plt.plot(cnn.history['loss'])\n",
    "plt.title('model loss')\n",
    "plt.ylim(-0.005,0.02)\n",
    "plt.xlim(10,140)\n",
    "plt.ylabel('loss')\n",
    "plt.xlabel('epoch')\n",
    "plt.legend(['loss'], loc='upper left')\n",
    "plt.show()"
   ]
  },
  {
   "cell_type": "markdown",
   "metadata": {},
   "source": [
    "### Chatting "
   ]
  },
  {
   "cell_type": "code",
   "execution_count": 21,
   "metadata": {
    "colab": {
     "base_uri": "https://localhost:8080/",
     "height": 85
    },
    "colab_type": "code",
    "id": "G-V3S1ka9F0M",
    "outputId": "570f93f1-f8bc-4ab9-b1a3-0a4ff6c6a96a"
   },
   "outputs": [
    {
     "name": "stdout",
     "output_type": "stream",
     "text": [
      "Start talking with the bot (type quit to stop)\n",
      "You: hi\n",
      "Hello! \n",
      "\n",
      "You: os\n",
      "Software that coordinates between the hardware and other parts of the computer to run other software is called an operating system, or the OS. \n",
      "\n",
      "You: bye\n",
      "Talk to you later \n",
      "\n",
      "You: quit\n"
     ]
    }
   ],
   "source": [
    "import pyttsx3\n",
    "def chatbot():\n",
    "    print(\"Start talking with the bot (type quit to stop)\")\n",
    "\n",
    "    while True:\n",
    "        inp = input(\"You: \")\n",
    "        if inp.lower() == \"quit\":\n",
    "            break\n",
    "\n",
    "        # Prediction \n",
    "        results = cnn_model.predict([bag_of_words(inp, vocab).reshape(1,507)])\n",
    "\n",
    "        # Choose the result with maximum probability\n",
    "        max_prob = numpy.argmax(results)\n",
    "\n",
    "        \n",
    "        if results[0][max_prob] > 0.5:\n",
    "\n",
    "            tags = label[int(max_prob)]\n",
    "            responses = []\n",
    "            for i in contents[\"intents\"]:\n",
    "                if i[\"tag\"] == tags:\n",
    "                    responses = i[\"responses\"]\n",
    "\n",
    "            answer=random.choice(responses)\n",
    "            print(answer,\"\\n\")\n",
    "            x= pyttsx3.init()\n",
    "            x.say(answer)\n",
    "            x.runAndWait()\n",
    "            \n",
    "            \n",
    "\n",
    "        else:\n",
    "\n",
    "            print(\"I didn't get that. Try again.\\n\")\n",
    "            x= pyttsx3.init()\n",
    "            x.say(\"I didn't get that. Try again.\")\n",
    "            x.runAndWait()\n",
    "\n",
    "chatbot()"
   ]
  },
  {
   "cell_type": "markdown",
   "metadata": {},
   "source": [
    "### Recurrent Neural Network (RNN)"
   ]
  },
  {
   "cell_type": "code",
   "execution_count": 15,
   "metadata": {
    "colab": {},
    "colab_type": "code",
    "id": "LjpJRjhPVQHV"
   },
   "outputs": [
    {
     "name": "stdout",
     "output_type": "stream",
     "text": [
      "WARNING:tensorflow:From C:\\Users\\pavig\\Anaconda3\\lib\\site-packages\\keras\\backend\\tensorflow_backend.py:74: The name tf.get_default_graph is deprecated. Please use tf.compat.v1.get_default_graph instead.\n",
      "\n",
      "WARNING:tensorflow:From C:\\Users\\pavig\\Anaconda3\\lib\\site-packages\\keras\\backend\\tensorflow_backend.py:517: The name tf.placeholder is deprecated. Please use tf.compat.v1.placeholder instead.\n",
      "\n",
      "WARNING:tensorflow:From C:\\Users\\pavig\\Anaconda3\\lib\\site-packages\\keras\\backend\\tensorflow_backend.py:4138: The name tf.random_uniform is deprecated. Please use tf.random.uniform instead.\n",
      "\n",
      "WARNING:tensorflow:From C:\\Users\\pavig\\Anaconda3\\lib\\site-packages\\keras\\optimizers.py:790: The name tf.train.Optimizer is deprecated. Please use tf.compat.v1.train.Optimizer instead.\n",
      "\n",
      "WARNING:tensorflow:From C:\\Users\\pavig\\Anaconda3\\lib\\site-packages\\keras\\backend\\tensorflow_backend.py:3295: The name tf.log is deprecated. Please use tf.math.log instead.\n",
      "\n"
     ]
    },
    {
     "name": "stderr",
     "output_type": "stream",
     "text": [
      "Using TensorFlow backend.\n"
     ]
    }
   ],
   "source": [
    "from keras.models import Sequential\n",
    "from keras.layers import Dense, Dropout, Flatten\n",
    "from keras.layers import Conv1D, MaxPooling1D, Embedding, LSTM,SimpleRNN\n",
    "rnn_model = Sequential()\n",
    "rnn_model.add(Embedding(507, 32, input_length=507))\n",
    "rnn_model.add(SimpleRNN(128, activation='relu', return_sequences=True))\n",
    "rnn_model.add(Flatten())\n",
    "rnn_model.add(Dense(50, activation='relu'))\n",
    "rnn_model.add(Dense(220,activation='softmax'))\n",
    "rnn_model.compile(optimizer='adam',\n",
    "              loss='categorical_crossentropy',\n",
    "              metrics=['accuracy'])"
   ]
  },
  {
   "cell_type": "code",
   "execution_count": 16,
   "metadata": {
    "colab": {
     "base_uri": "https://localhost:8080/",
     "height": 334
    },
    "colab_type": "code",
    "id": "yIAktHUeVzdr",
    "outputId": "0b888065-bcdc-4c4f-eac2-e2fd16db604c"
   },
   "outputs": [
    {
     "name": "stdout",
     "output_type": "stream",
     "text": [
      "_________________________________________________________________\n",
      "Layer (type)                 Output Shape              Param #   \n",
      "=================================================================\n",
      "embedding_1 (Embedding)      (None, 507, 32)           16224     \n",
      "_________________________________________________________________\n",
      "simple_rnn_1 (SimpleRNN)     (None, 507, 128)          20608     \n",
      "_________________________________________________________________\n",
      "flatten_1 (Flatten)          (None, 64896)             0         \n",
      "_________________________________________________________________\n",
      "dense_1 (Dense)              (None, 50)                3244850   \n",
      "_________________________________________________________________\n",
      "dense_2 (Dense)              (None, 220)               11220     \n",
      "=================================================================\n",
      "Total params: 3,292,902\n",
      "Trainable params: 3,292,902\n",
      "Non-trainable params: 0\n",
      "_________________________________________________________________\n"
     ]
    }
   ],
   "source": [
    "rnn_model.summary()"
   ]
  },
  {
   "cell_type": "code",
   "execution_count": 17,
   "metadata": {
    "colab": {
     "base_uri": "https://localhost:8080/",
     "height": 1000
    },
    "colab_type": "code",
    "id": "tB0GF-npV-d4",
    "outputId": "9b6fc4a5-d8ec-4689-8e31-2a73ae788e9e",
    "scrolled": false
   },
   "outputs": [
    {
     "name": "stdout",
     "output_type": "stream",
     "text": [
      "WARNING:tensorflow:From C:\\Users\\pavig\\Anaconda3\\lib\\site-packages\\keras\\backend\\tensorflow_backend.py:986: The name tf.assign_add is deprecated. Please use tf.compat.v1.assign_add instead.\n",
      "\n",
      "WARNING:tensorflow:From C:\\Users\\pavig\\Anaconda3\\lib\\site-packages\\keras\\backend\\tensorflow_backend.py:973: The name tf.assign is deprecated. Please use tf.compat.v1.assign instead.\n",
      "\n",
      "WARNING:tensorflow:From C:\\Users\\pavig\\Anaconda3\\lib\\site-packages\\keras\\backend\\tensorflow_backend.py:2741: The name tf.Session is deprecated. Please use tf.compat.v1.Session instead.\n",
      "\n",
      "Train on 418 samples, validate on 47 samples\n",
      "Epoch 1/150\n",
      "WARNING:tensorflow:From C:\\Users\\pavig\\Anaconda3\\lib\\site-packages\\keras\\backend\\tensorflow_backend.py:174: The name tf.get_default_session is deprecated. Please use tf.compat.v1.get_default_session instead.\n",
      "\n",
      "WARNING:tensorflow:From C:\\Users\\pavig\\Anaconda3\\lib\\site-packages\\keras\\backend\\tensorflow_backend.py:181: The name tf.ConfigProto is deprecated. Please use tf.compat.v1.ConfigProto instead.\n",
      "\n",
      "WARNING:tensorflow:From C:\\Users\\pavig\\Anaconda3\\lib\\site-packages\\keras\\backend\\tensorflow_backend.py:190: The name tf.global_variables is deprecated. Please use tf.compat.v1.global_variables instead.\n",
      "\n",
      "WARNING:tensorflow:From C:\\Users\\pavig\\Anaconda3\\lib\\site-packages\\keras\\backend\\tensorflow_backend.py:199: The name tf.is_variable_initialized is deprecated. Please use tf.compat.v1.is_variable_initialized instead.\n",
      "\n",
      "WARNING:tensorflow:From C:\\Users\\pavig\\Anaconda3\\lib\\site-packages\\keras\\backend\\tensorflow_backend.py:206: The name tf.variables_initializer is deprecated. Please use tf.compat.v1.variables_initializer instead.\n",
      "\n",
      " - 9s - loss: 5.4006 - acc: 0.0000e+00 - val_loss: 5.4784 - val_acc: 0.0000e+00\n",
      "Epoch 2/150\n",
      " - 8s - loss: 5.3412 - acc: 0.0144 - val_loss: 5.8643 - val_acc: 0.0000e+00\n",
      "Epoch 3/150\n",
      " - 8s - loss: 4.9207 - acc: 0.0431 - val_loss: 8.3212 - val_acc: 0.0000e+00\n",
      "Epoch 4/150\n",
      " - 8s - loss: 3.5467 - acc: 0.2297 - val_loss: 12.7768 - val_acc: 0.0000e+00\n",
      "Epoch 5/150\n",
      " - 9s - loss: 2.2519 - acc: 0.5072 - val_loss: 15.4167 - val_acc: 0.0000e+00\n",
      "Epoch 6/150\n",
      " - 8s - loss: 1.6222 - acc: 0.6531 - val_loss: 15.7726 - val_acc: 0.0000e+00\n",
      "Epoch 7/150\n",
      " - 8s - loss: 1.2873 - acc: 0.7225 - val_loss: 16.0242 - val_acc: 0.0000e+00\n",
      "Epoch 8/150\n",
      " - 8s - loss: 1.0790 - acc: 0.7512 - val_loss: 16.0925 - val_acc: 0.0000e+00\n",
      "Epoch 9/150\n",
      " - 8s - loss: 0.9773 - acc: 0.7775 - val_loss: 16.0243 - val_acc: 0.0000e+00\n",
      "Epoch 10/150\n",
      " - 8s - loss: 0.8359 - acc: 0.7871 - val_loss: 16.1181 - val_acc: 0.0000e+00\n",
      "Epoch 11/150\n",
      " - 8s - loss: 0.7766 - acc: 0.8206 - val_loss: 16.1181 - val_acc: 0.0000e+00\n",
      "Epoch 12/150\n",
      " - 8s - loss: 0.7213 - acc: 0.8325 - val_loss: 16.1181 - val_acc: 0.0000e+00\n",
      "Epoch 13/150\n",
      " - 8s - loss: 0.6888 - acc: 0.8469 - val_loss: 16.1181 - val_acc: 0.0000e+00\n",
      "Epoch 14/150\n",
      " - 8s - loss: 0.5889 - acc: 0.8541 - val_loss: 16.1181 - val_acc: 0.0000e+00\n",
      "Epoch 15/150\n",
      " - 8s - loss: 0.5215 - acc: 0.8780 - val_loss: 16.1181 - val_acc: 0.0000e+00\n",
      "Epoch 16/150\n",
      " - 8s - loss: 0.5085 - acc: 0.8852 - val_loss: 16.1181 - val_acc: 0.0000e+00\n",
      "Epoch 17/150\n",
      " - 9s - loss: 0.4475 - acc: 0.8971 - val_loss: 16.1181 - val_acc: 0.0000e+00\n",
      "Epoch 18/150\n",
      " - 9s - loss: 0.4244 - acc: 0.9067 - val_loss: 16.1181 - val_acc: 0.0000e+00\n",
      "Epoch 19/150\n",
      " - 9s - loss: 0.4024 - acc: 0.9139 - val_loss: 16.1181 - val_acc: 0.0000e+00\n",
      "Epoch 20/150\n",
      " - 9s - loss: 0.4054 - acc: 0.9115 - val_loss: 16.1181 - val_acc: 0.0000e+00\n",
      "Epoch 21/150\n",
      " - 9s - loss: 0.3952 - acc: 0.9091 - val_loss: 16.1181 - val_acc: 0.0000e+00\n",
      "Epoch 22/150\n",
      " - 10s - loss: 0.3686 - acc: 0.9115 - val_loss: 16.1181 - val_acc: 0.0000e+00\n",
      "Epoch 23/150\n",
      " - 11s - loss: 0.3537 - acc: 0.9234 - val_loss: 16.1181 - val_acc: 0.0000e+00\n",
      "Epoch 24/150\n",
      " - 9s - loss: 0.3426 - acc: 0.9234 - val_loss: 16.1181 - val_acc: 0.0000e+00\n",
      "Epoch 25/150\n",
      " - 9s - loss: 0.3162 - acc: 0.9282 - val_loss: 16.1181 - val_acc: 0.0000e+00\n",
      "Epoch 26/150\n",
      " - 9s - loss: 0.3072 - acc: 0.9282 - val_loss: 16.1181 - val_acc: 0.0000e+00\n",
      "Epoch 27/150\n",
      " - 9s - loss: 0.3260 - acc: 0.9258 - val_loss: 16.1181 - val_acc: 0.0000e+00\n",
      "Epoch 28/150\n",
      " - 10s - loss: 0.3262 - acc: 0.9234 - val_loss: 16.1181 - val_acc: 0.0000e+00\n",
      "Epoch 29/150\n",
      " - 9s - loss: 0.3068 - acc: 0.9211 - val_loss: 16.1181 - val_acc: 0.0000e+00\n",
      "Epoch 30/150\n",
      " - 9s - loss: 0.3421 - acc: 0.8971 - val_loss: 16.1181 - val_acc: 0.0000e+00\n",
      "Epoch 31/150\n",
      " - 9s - loss: 0.7593 - acc: 0.8469 - val_loss: 16.0815 - val_acc: 0.0000e+00\n",
      "Epoch 32/150\n",
      " - 9s - loss: 0.5599 - acc: 0.8780 - val_loss: 16.1181 - val_acc: 0.0000e+00\n",
      "Epoch 33/150\n",
      " - 9s - loss: 0.3401 - acc: 0.9115 - val_loss: 16.1181 - val_acc: 0.0000e+00\n",
      "Epoch 34/150\n",
      " - 9s - loss: 0.3676 - acc: 0.9211 - val_loss: 16.1181 - val_acc: 0.0000e+00\n",
      "Epoch 35/150\n",
      " - 9s - loss: 0.3063 - acc: 0.9187 - val_loss: 16.1181 - val_acc: 0.0000e+00\n",
      "Epoch 36/150\n",
      " - 9s - loss: 0.2669 - acc: 0.9330 - val_loss: 16.1181 - val_acc: 0.0000e+00\n",
      "Epoch 37/150\n",
      " - 9s - loss: 0.2636 - acc: 0.9378 - val_loss: 16.1181 - val_acc: 0.0000e+00\n",
      "Epoch 38/150\n",
      " - 9s - loss: 0.2601 - acc: 0.9402 - val_loss: 16.1181 - val_acc: 0.0000e+00\n",
      "Epoch 39/150\n",
      " - 9s - loss: 0.2464 - acc: 0.9402 - val_loss: 16.1181 - val_acc: 0.0000e+00\n",
      "Epoch 40/150\n",
      " - 9s - loss: 0.2421 - acc: 0.9450 - val_loss: 16.1181 - val_acc: 0.0000e+00\n",
      "Epoch 41/150\n",
      " - 9s - loss: 0.2388 - acc: 0.9378 - val_loss: 16.1181 - val_acc: 0.0000e+00\n",
      "Epoch 42/150\n",
      " - 9s - loss: 0.2345 - acc: 0.9450 - val_loss: 16.1181 - val_acc: 0.0000e+00\n",
      "Epoch 43/150\n",
      " - 10s - loss: 0.2249 - acc: 0.9426 - val_loss: 16.1181 - val_acc: 0.0000e+00\n",
      "Epoch 44/150\n",
      " - 9s - loss: 0.2146 - acc: 0.9474 - val_loss: 16.1181 - val_acc: 0.0000e+00\n",
      "Epoch 45/150\n",
      " - 9s - loss: 0.2024 - acc: 0.9522 - val_loss: 16.1181 - val_acc: 0.0000e+00\n",
      "Epoch 46/150\n",
      " - 9s - loss: 0.1977 - acc: 0.9498 - val_loss: 16.1181 - val_acc: 0.0000e+00\n",
      "Epoch 47/150\n",
      " - 9s - loss: 0.1948 - acc: 0.9522 - val_loss: 16.1181 - val_acc: 0.0000e+00\n",
      "Epoch 48/150\n",
      " - 8s - loss: 0.1952 - acc: 0.9450 - val_loss: 16.1181 - val_acc: 0.0000e+00\n",
      "Epoch 49/150\n",
      " - 8s - loss: 0.1920 - acc: 0.9498 - val_loss: 16.1181 - val_acc: 0.0000e+00\n",
      "Epoch 50/150\n",
      " - 9s - loss: 0.1965 - acc: 0.9474 - val_loss: 16.1181 - val_acc: 0.0000e+00\n",
      "Epoch 51/150\n",
      " - 9s - loss: 0.1908 - acc: 0.9522 - val_loss: 16.1181 - val_acc: 0.0000e+00\n",
      "Epoch 52/150\n",
      " - 9s - loss: 0.1865 - acc: 0.9474 - val_loss: 16.1181 - val_acc: 0.0000e+00\n",
      "Epoch 53/150\n",
      " - 9s - loss: 0.1849 - acc: 0.9474 - val_loss: 16.1181 - val_acc: 0.0000e+00\n",
      "Epoch 54/150\n",
      " - 9s - loss: 0.1768 - acc: 0.9474 - val_loss: 16.1181 - val_acc: 0.0000e+00\n",
      "Epoch 55/150\n",
      " - 9s - loss: 0.1807 - acc: 0.9545 - val_loss: 16.1181 - val_acc: 0.0000e+00\n",
      "Epoch 56/150\n",
      " - 9s - loss: 0.1826 - acc: 0.9522 - val_loss: 16.1181 - val_acc: 0.0000e+00\n",
      "Epoch 57/150\n",
      " - 9s - loss: 0.1756 - acc: 0.9498 - val_loss: 16.1181 - val_acc: 0.0000e+00\n",
      "Epoch 58/150\n",
      " - 10s - loss: 0.1756 - acc: 0.9522 - val_loss: 16.1181 - val_acc: 0.0000e+00\n",
      "Epoch 59/150\n",
      " - 9s - loss: 0.2414 - acc: 0.9474 - val_loss: 16.1181 - val_acc: 0.0000e+00\n",
      "Epoch 60/150\n",
      " - 9s - loss: 0.2275 - acc: 0.9450 - val_loss: 16.1181 - val_acc: 0.0000e+00\n",
      "Epoch 61/150\n",
      " - 9s - loss: 0.2344 - acc: 0.9402 - val_loss: 16.1181 - val_acc: 0.0000e+00\n",
      "Epoch 62/150\n",
      " - 10s - loss: 0.2254 - acc: 0.9378 - val_loss: 16.1181 - val_acc: 0.0000e+00\n",
      "Epoch 63/150\n",
      " - 10s - loss: 0.2352 - acc: 0.9426 - val_loss: 16.1181 - val_acc: 0.0000e+00\n",
      "Epoch 64/150\n",
      " - 9s - loss: 0.2161 - acc: 0.9474 - val_loss: 16.1181 - val_acc: 0.0000e+00\n",
      "Epoch 65/150\n",
      " - 10s - loss: 0.2195 - acc: 0.9426 - val_loss: 16.1181 - val_acc: 0.0000e+00\n",
      "Epoch 66/150\n",
      " - 10s - loss: 0.1796 - acc: 0.9593 - val_loss: 16.1181 - val_acc: 0.0000e+00\n",
      "Epoch 67/150\n",
      " - 10s - loss: 0.1789 - acc: 0.9522 - val_loss: 16.1181 - val_acc: 0.0000e+00\n",
      "Epoch 68/150\n",
      " - 10s - loss: 0.1681 - acc: 0.9593 - val_loss: 16.1181 - val_acc: 0.0000e+00\n",
      "Epoch 69/150\n",
      " - 10s - loss: 0.1618 - acc: 0.9593 - val_loss: 16.1181 - val_acc: 0.0000e+00\n",
      "Epoch 70/150\n",
      " - 9s - loss: 0.1544 - acc: 0.9617 - val_loss: 16.1181 - val_acc: 0.0000e+00\n",
      "Epoch 71/150\n",
      " - 9s - loss: 0.1543 - acc: 0.9641 - val_loss: 16.1181 - val_acc: 0.0000e+00\n",
      "Epoch 72/150\n",
      " - 8s - loss: 0.1504 - acc: 0.9641 - val_loss: 16.1181 - val_acc: 0.0000e+00\n",
      "Epoch 73/150\n",
      " - 10s - loss: 0.1490 - acc: 0.9641 - val_loss: 16.1181 - val_acc: 0.0000e+00\n"
     ]
    },
    {
     "name": "stdout",
     "output_type": "stream",
     "text": [
      "Epoch 74/150\n",
      " - 9s - loss: 0.1483 - acc: 0.9593 - val_loss: 16.1181 - val_acc: 0.0000e+00\n",
      "Epoch 75/150\n",
      " - 9s - loss: 0.1463 - acc: 0.9617 - val_loss: 16.1181 - val_acc: 0.0000e+00\n",
      "Epoch 76/150\n",
      " - 10s - loss: 0.1469 - acc: 0.9641 - val_loss: 16.1181 - val_acc: 0.0000e+00\n",
      "Epoch 77/150\n",
      " - 9s - loss: 0.1459 - acc: 0.9593 - val_loss: 16.1181 - val_acc: 0.0000e+00\n",
      "Epoch 78/150\n",
      " - 10s - loss: 0.1450 - acc: 0.9593 - val_loss: 16.1181 - val_acc: 0.0000e+00\n",
      "Epoch 79/150\n",
      " - 8s - loss: 0.1459 - acc: 0.9569 - val_loss: 16.1181 - val_acc: 0.0000e+00\n",
      "Epoch 80/150\n",
      " - 8s - loss: 0.1461 - acc: 0.9569 - val_loss: 16.1181 - val_acc: 0.0000e+00\n",
      "Epoch 81/150\n",
      " - 8s - loss: 0.1445 - acc: 0.9641 - val_loss: 16.1181 - val_acc: 0.0000e+00\n",
      "Epoch 82/150\n",
      " - 8s - loss: 0.1464 - acc: 0.9593 - val_loss: 16.1181 - val_acc: 0.0000e+00\n",
      "Epoch 83/150\n",
      " - 8s - loss: 0.1449 - acc: 0.9617 - val_loss: 16.1181 - val_acc: 0.0000e+00\n",
      "Epoch 84/150\n",
      " - 8s - loss: 0.1439 - acc: 0.9641 - val_loss: 16.1181 - val_acc: 0.0000e+00\n",
      "Epoch 85/150\n",
      " - 8s - loss: 0.1431 - acc: 0.9569 - val_loss: 16.1181 - val_acc: 0.0000e+00\n",
      "Epoch 86/150\n",
      " - 9s - loss: 0.1448 - acc: 0.9569 - val_loss: 16.1181 - val_acc: 0.0000e+00\n",
      "Epoch 87/150\n",
      " - 8s - loss: 0.1421 - acc: 0.9617 - val_loss: 16.1181 - val_acc: 0.0000e+00\n",
      "Epoch 88/150\n",
      " - 8s - loss: 0.1627 - acc: 0.9569 - val_loss: 16.1181 - val_acc: 0.0000e+00\n",
      "Epoch 89/150\n",
      " - 8s - loss: 0.1704 - acc: 0.9569 - val_loss: 16.1181 - val_acc: 0.0000e+00\n",
      "Epoch 90/150\n",
      " - 10s - loss: 0.1583 - acc: 0.9593 - val_loss: 16.1181 - val_acc: 0.0000e+00\n",
      "Epoch 91/150\n",
      " - 8s - loss: 0.1505 - acc: 0.9641 - val_loss: 16.1181 - val_acc: 0.0000e+00\n",
      "Epoch 92/150\n",
      " - 8s - loss: 0.1467 - acc: 0.9617 - val_loss: 16.1181 - val_acc: 0.0000e+00\n",
      "Epoch 93/150\n",
      " - 9s - loss: 0.1468 - acc: 0.9617 - val_loss: 16.1181 - val_acc: 0.0000e+00\n",
      "Epoch 94/150\n",
      " - 9s - loss: 0.1442 - acc: 0.9593 - val_loss: 16.1181 - val_acc: 0.0000e+00\n",
      "Epoch 95/150\n",
      " - 8s - loss: 0.1440 - acc: 0.9593 - val_loss: 16.1181 - val_acc: 0.0000e+00\n",
      "Epoch 96/150\n",
      " - 8s - loss: 0.1422 - acc: 0.9617 - val_loss: 16.1181 - val_acc: 0.0000e+00\n",
      "Epoch 97/150\n",
      " - 9s - loss: 0.1419 - acc: 0.9617 - val_loss: 16.1181 - val_acc: 0.0000e+00\n",
      "Epoch 98/150\n",
      " - 9s - loss: 0.1454 - acc: 0.9593 - val_loss: 16.1181 - val_acc: 0.0000e+00\n",
      "Epoch 99/150\n",
      " - 8s - loss: 0.1652 - acc: 0.9617 - val_loss: 16.1181 - val_acc: 0.0000e+00\n",
      "Epoch 100/150\n",
      " - 8s - loss: 0.1735 - acc: 0.9593 - val_loss: 16.1181 - val_acc: 0.0000e+00\n",
      "Epoch 101/150\n",
      " - 8s - loss: 0.1639 - acc: 0.9522 - val_loss: 16.1181 - val_acc: 0.0000e+00\n",
      "Epoch 102/150\n",
      " - 8s - loss: 0.1548 - acc: 0.9545 - val_loss: 16.1181 - val_acc: 0.0000e+00\n",
      "Epoch 103/150\n",
      " - 8s - loss: 0.1453 - acc: 0.9593 - val_loss: 16.1181 - val_acc: 0.0000e+00\n",
      "Epoch 104/150\n",
      " - 9s - loss: 0.1481 - acc: 0.9617 - val_loss: 16.1181 - val_acc: 0.0000e+00\n",
      "Epoch 105/150\n",
      " - 8s - loss: 0.1415 - acc: 0.9569 - val_loss: 16.1181 - val_acc: 0.0000e+00\n",
      "Epoch 106/150\n",
      " - 8s - loss: 0.1376 - acc: 0.9593 - val_loss: 16.1181 - val_acc: 0.0000e+00\n",
      "Epoch 107/150\n",
      " - 9s - loss: 0.1371 - acc: 0.9593 - val_loss: 16.1181 - val_acc: 0.0000e+00\n",
      "Epoch 108/150\n",
      " - 9s - loss: 0.1355 - acc: 0.9545 - val_loss: 16.1181 - val_acc: 0.0000e+00\n",
      "Epoch 109/150\n",
      " - 9s - loss: 0.1307 - acc: 0.9593 - val_loss: 16.1181 - val_acc: 0.0000e+00\n",
      "Epoch 110/150\n",
      " - 9s - loss: 0.1319 - acc: 0.9617 - val_loss: 16.1181 - val_acc: 0.0000e+00\n",
      "Epoch 111/150\n",
      " - 9s - loss: 0.1298 - acc: 0.9617 - val_loss: 16.1181 - val_acc: 0.0000e+00\n",
      "Epoch 112/150\n",
      " - 8s - loss: 0.1301 - acc: 0.9665 - val_loss: 16.1181 - val_acc: 0.0000e+00\n",
      "Epoch 113/150\n",
      " - 9s - loss: 0.1279 - acc: 0.9545 - val_loss: 16.1181 - val_acc: 0.0000e+00\n",
      "Epoch 114/150\n",
      " - 8s - loss: 0.1277 - acc: 0.9569 - val_loss: 16.1181 - val_acc: 0.0000e+00\n",
      "Epoch 115/150\n",
      " - 8s - loss: 0.1282 - acc: 0.9569 - val_loss: 16.1181 - val_acc: 0.0000e+00\n",
      "Epoch 116/150\n",
      " - 8s - loss: 0.1249 - acc: 0.9617 - val_loss: 16.1181 - val_acc: 0.0000e+00\n",
      "Epoch 117/150\n",
      " - 8s - loss: 0.1255 - acc: 0.9569 - val_loss: 16.1181 - val_acc: 0.0000e+00\n",
      "Epoch 118/150\n",
      " - 8s - loss: 0.1259 - acc: 0.9569 - val_loss: 16.1181 - val_acc: 0.0000e+00\n",
      "Epoch 119/150\n",
      " - 8s - loss: 0.1287 - acc: 0.9545 - val_loss: 16.1181 - val_acc: 0.0000e+00\n",
      "Epoch 120/150\n",
      " - 8s - loss: 0.1267 - acc: 0.9569 - val_loss: 16.1181 - val_acc: 0.0000e+00\n",
      "Epoch 121/150\n",
      " - 8s - loss: 0.1279 - acc: 0.9569 - val_loss: 16.1181 - val_acc: 0.0000e+00\n",
      "Epoch 122/150\n",
      " - 8s - loss: 0.1263 - acc: 0.9569 - val_loss: 16.1181 - val_acc: 0.0000e+00\n",
      "Epoch 123/150\n",
      " - 8s - loss: 0.1254 - acc: 0.9593 - val_loss: 16.1181 - val_acc: 0.0000e+00\n",
      "Epoch 124/150\n",
      " - 8s - loss: 0.1272 - acc: 0.9617 - val_loss: 16.1181 - val_acc: 0.0000e+00\n",
      "Epoch 125/150\n",
      " - 8s - loss: 0.1241 - acc: 0.9641 - val_loss: 16.1181 - val_acc: 0.0000e+00\n",
      "Epoch 126/150\n",
      " - 8s - loss: 0.1511 - acc: 0.9569 - val_loss: 16.1181 - val_acc: 0.0000e+00\n",
      "Epoch 127/150\n",
      " - 8s - loss: 0.1258 - acc: 0.9617 - val_loss: 16.1181 - val_acc: 0.0000e+00\n",
      "Epoch 128/150\n",
      " - 8s - loss: 0.1281 - acc: 0.9569 - val_loss: 16.1181 - val_acc: 0.0000e+00\n",
      "Epoch 129/150\n",
      " - 8s - loss: 0.1236 - acc: 0.9545 - val_loss: 16.1181 - val_acc: 0.0000e+00\n",
      "Epoch 130/150\n",
      " - 8s - loss: 0.1171 - acc: 0.9641 - val_loss: 16.1181 - val_acc: 0.0000e+00\n",
      "Epoch 131/150\n",
      " - 8s - loss: 0.1164 - acc: 0.9617 - val_loss: 16.1181 - val_acc: 0.0000e+00\n",
      "Epoch 132/150\n",
      " - 8s - loss: 0.1136 - acc: 0.9545 - val_loss: 16.1181 - val_acc: 0.0000e+00\n",
      "Epoch 133/150\n",
      " - 8s - loss: 0.1161 - acc: 0.9617 - val_loss: 16.1181 - val_acc: 0.0000e+00\n",
      "Epoch 134/150\n",
      " - 9s - loss: 0.1072 - acc: 0.9665 - val_loss: 16.1181 - val_acc: 0.0000e+00\n",
      "Epoch 135/150\n",
      " - 8s - loss: 0.1266 - acc: 0.9593 - val_loss: 16.1181 - val_acc: 0.0000e+00\n",
      "Epoch 136/150\n",
      " - 8s - loss: 0.1170 - acc: 0.9569 - val_loss: 16.1181 - val_acc: 0.0000e+00\n",
      "Epoch 137/150\n",
      " - 9s - loss: 0.1197 - acc: 0.9593 - val_loss: 16.1181 - val_acc: 0.0000e+00\n",
      "Epoch 138/150\n",
      " - 9s - loss: 0.1954 - acc: 0.9522 - val_loss: 16.1181 - val_acc: 0.0000e+00\n",
      "Epoch 139/150\n",
      " - 8s - loss: 0.2798 - acc: 0.9163 - val_loss: 16.1181 - val_acc: 0.0000e+00\n",
      "Epoch 140/150\n",
      " - 9s - loss: 0.3125 - acc: 0.9043 - val_loss: 16.1181 - val_acc: 0.0000e+00\n",
      "Epoch 141/150\n",
      " - 10s - loss: 0.3354 - acc: 0.9115 - val_loss: 16.1181 - val_acc: 0.0000e+00\n",
      "Epoch 142/150\n",
      " - 9s - loss: 0.2373 - acc: 0.9426 - val_loss: 16.1181 - val_acc: 0.0000e+00\n",
      "Epoch 143/150\n",
      " - 9s - loss: 0.1736 - acc: 0.9569 - val_loss: 16.1181 - val_acc: 0.0000e+00\n",
      "Epoch 144/150\n",
      " - 10s - loss: 0.1232 - acc: 0.9593 - val_loss: 16.1181 - val_acc: 0.0000e+00\n",
      "Epoch 145/150\n",
      " - 10s - loss: 0.0944 - acc: 0.9665 - val_loss: 16.1181 - val_acc: 0.0000e+00\n",
      "Epoch 146/150\n",
      " - 9s - loss: 0.0913 - acc: 0.9689 - val_loss: 16.1181 - val_acc: 0.0000e+00\n",
      "Epoch 147/150\n",
      " - 9s - loss: 0.0861 - acc: 0.9713 - val_loss: 16.1181 - val_acc: 0.0000e+00\n",
      "Epoch 148/150\n",
      " - 10s - loss: 0.0871 - acc: 0.9689 - val_loss: 16.1181 - val_acc: 0.0000e+00\n",
      "Epoch 149/150\n",
      " - 9s - loss: 0.0904 - acc: 0.9689 - val_loss: 16.1181 - val_acc: 0.0000e+00\n",
      "Epoch 150/150\n",
      " - 9s - loss: 0.0858 - acc: 0.9689 - val_loss: 16.1181 - val_acc: 0.0000e+00\n"
     ]
    }
   ],
   "source": [
    "rnn=rnn_model.fit(train, test, epochs=150,verbose = 2, batch_size=16,validation_split=0.1)"
   ]
  },
  {
   "cell_type": "markdown",
   "metadata": {},
   "source": [
    "### Accuracy (RNN) "
   ]
  },
  {
   "cell_type": "code",
   "execution_count": 18,
   "metadata": {
    "colab": {
     "base_uri": "https://localhost:8080/",
     "height": 70
    },
    "colab_type": "code",
    "id": "uAU9l9j36a23",
    "outputId": "8ec9b701-b079-44c8-d7f8-fd2f526866fe"
   },
   "outputs": [
    {
     "name": "stdout",
     "output_type": "stream",
     "text": [
      "Model saved successfully...\n",
      "465/465 [==============================] - 1s 3ms/step\n",
      "Accuracy: 0.875268817204301\n"
     ]
    }
   ],
   "source": [
    "print(\"Model saved successfully...\")\n",
    "\n",
    "scores = rnn_model.evaluate(train, test, verbose=1)\n",
    "print(\"Accuracy:\", scores[1])"
   ]
  },
  {
   "cell_type": "markdown",
   "metadata": {},
   "source": [
    "### Graph results of RNN "
   ]
  },
  {
   "cell_type": "code",
   "execution_count": 19,
   "metadata": {
    "colab": {
     "base_uri": "https://localhost:8080/",
     "height": 316
    },
    "colab_type": "code",
    "id": "RdbP5iNPiGor",
    "outputId": "3005e9b2-1071-4b57-b67d-8a70109f6bc5"
   },
   "outputs": [
    {
     "data": {
      "text/plain": [
       "<matplotlib.legend.Legend at 0x24f53cfc7c8>"
      ]
     },
     "execution_count": 19,
     "metadata": {},
     "output_type": "execute_result"
    },
    {
     "data": {
      "image/png": "[encoded data removed]",
      "text/plain": [
       "<Figure size 432x288 with 1 Axes>"
      ]
     },
     "metadata": {
      "needs_background": "light"
     },
     "output_type": "display_data"
    }
   ],
   "source": [
    "%matplotlib inline\n",
    "import matplotlib.pyplot as plt\n",
    "\n",
    "acc=rnn.history['acc']\n",
    "loss=rnn.history['loss']\n",
    "\n",
    "\n",
    "epochs=range(len(acc))\n",
    "\n",
    "plt.plot(epochs,acc,'bo', alpha = 0.6, label='acc')\n",
    "plt.ylim(0,1.2)\n",
    "plt.plot(epochs, loss,'go',alpha=0.6, label='loss')\n",
    "plt.title('Model accuracy and Loss')\n",
    "plt.legend()"
   ]
  },
  {
   "cell_type": "markdown",
   "metadata": {},
   "source": [
    "### Chatting "
   ]
  },
  {
   "cell_type": "code",
   "execution_count": 20,
   "metadata": {
    "colab": {
     "base_uri": "https://localhost:8080/",
     "height": 52
    },
    "colab_type": "code",
    "id": "YhAgvNJT39gk",
    "outputId": "9bf820d6-fd3c-4ffc-a2f1-d63cd4293f51"
   },
   "outputs": [
    {
     "name": "stdout",
     "output_type": "stream",
     "text": [
      "Start talking with the bot (type quit to stop)\n",
      "You: hi\n",
      "Hi there, How can I help? \n",
      "\n",
      "You: what is your name\n",
      "I'm Chatbot  \n",
      "\n",
      "You: bye\n",
      "See you buddy. \n",
      "\n",
      "You: what is a computer\n",
      "An electronic device capable of performing calculations at very high speed and with very high accuracy. \n",
      "\n",
      "You: cord\n",
      "The hole in the board shall be 6 inches in diameter. Its center shall be 9 inches from the top and 12 inches from each side of the board edges \n",
      "\n",
      "You: quit\n"
     ]
    }
   ],
   "source": [
    "import pyttsx3\n",
    "def rnn_chatbot():\n",
    "    print(\"Start talking with the bot (type quit to stop)\")\n",
    "\n",
    "    while True:\n",
    "        inp = input(\"You: \")\n",
    "        if inp.lower() == \"quit\":\n",
    "            break\n",
    "\n",
    "        # Prediction \n",
    "        results = cnn_model.predict([bag_of_words(inp, vocab).reshape(1,507)])\n",
    "\n",
    "        # Choose the result with maximum probability\n",
    "        max_prob = numpy.argmax(results)\n",
    "\n",
    "        \n",
    "        if results[0][max_prob] > 0.5:\n",
    "\n",
    "            tags = label[int(max_prob)]\n",
    "            responses = []\n",
    "            for i in contents[\"intents\"]:\n",
    "                if i[\"tag\"] == tags:\n",
    "                    responses = i[\"responses\"]\n",
    "\n",
    "            answer=random.choice(responses)\n",
    "            print(answer,\"\\n\")\n",
    "            x= pyttsx3.init()\n",
    "            x.say(answer)\n",
    "            x.runAndWait()\n",
    "            \n",
    "            \n",
    "\n",
    "        else:\n",
    "\n",
    "            print(\"I didn't get that. Try again.\\n\")\n",
    "            x= pyttsx3.init()\n",
    "            x.say(\"I didn't get that. Try again.\")\n",
    "            x.runAndWait()\n",
    "\n",
    "rnn_chatbot()"
   ]
  },
  {
   "cell_type": "code",
   "execution_count": null,
   "metadata": {},
   "outputs": [],
   "source": []
  }
 ],
 "metadata": {
  "accelerator": "GPU",
  "colab": {
   "collapsed_sections": [],
   "name": "chatbot CNN.ipynb",
   "provenance": []
  },
  "kernelspec": {
   "display_name": "Python 3",
   "language": "python",
   "name": "python3"
  },
  "language_info": {
   "codemirror_mode": {
    "name": "ipython",
    "version": 3
   },
   "file_extension": ".py",
   "mimetype": "text/x-python",
   "name": "python",
   "nbconvert_exporter": "python",
   "pygments_lexer": "ipython3",
   "version": "3.7.4"
  }
 },
 "nbformat": 4,
 "nbformat_minor": 1
}
